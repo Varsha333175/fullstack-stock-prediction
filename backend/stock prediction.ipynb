{
 "cells": [
  {
   "cell_type": "markdown",
   "id": "8281ee39",
   "metadata": {},
   "source": [
    "### Step 1: Install Required Libraries\n",
    "\n",
    "Before fetching stock market data and applying machine learning, we need to install the required Python libraries.\n",
    "\n",
    "- `yfinance`: Fetches real-time stock data from Yahoo Finance.\n",
    "- `pandas`: Helps in data manipulation and handling.\n",
    "- `numpy`: Used for numerical computations.\n",
    "- `matplotlib`: Used for data visualization.\n",
    "- `scikit-learn`: Provides machine learning models like Linear Regression.\n",
    "\n",
    "Run the following code cell to install these libraries.\n"
   ]
  },
  {
   "cell_type": "code",
   "execution_count": 1,
   "id": "7eebf9b8",
   "metadata": {
    "scrolled": false
   },
   "outputs": [
    {
     "name": "stdout",
     "output_type": "stream",
     "text": [
      "Defaulting to user installation because normal site-packages is not writeable\n",
      "Requirement already satisfied: yfinance in c:\\users\\varsh\\appdata\\roaming\\python\\python311\\site-packages (0.2.54)\n",
      "Requirement already satisfied: pandas in c:\\users\\varsh\\appdata\\roaming\\python\\python311\\site-packages (2.0.3)\n",
      "Requirement already satisfied: numpy in c:\\users\\varsh\\appdata\\roaming\\python\\python311\\site-packages (1.25.1)\n",
      "Requirement already satisfied: matplotlib in c:\\users\\varsh\\appdata\\roaming\\python\\python311\\site-packages (3.7.2)\n",
      "Requirement already satisfied: scikit-learn in c:\\users\\varsh\\appdata\\roaming\\python\\python311\\site-packages (1.2.2)\n",
      "Requirement already satisfied: requests>=2.31 in c:\\users\\varsh\\appdata\\roaming\\python\\python311\\site-packages (from yfinance) (2.32.0)\n",
      "Requirement already satisfied: multitasking>=0.0.7 in c:\\users\\varsh\\appdata\\roaming\\python\\python311\\site-packages (from yfinance) (0.0.11)\n",
      "Requirement already satisfied: platformdirs>=2.0.0 in c:\\programdata\\anaconda3\\lib\\site-packages (from yfinance) (3.10.0)\n",
      "Requirement already satisfied: pytz>=2022.5 in c:\\users\\varsh\\appdata\\roaming\\python\\python311\\site-packages (from yfinance) (2023.3)\n",
      "Requirement already satisfied: frozendict>=2.3.4 in c:\\users\\varsh\\appdata\\roaming\\python\\python311\\site-packages (from yfinance) (2.4.6)\n",
      "Requirement already satisfied: peewee>=3.16.2 in c:\\users\\varsh\\appdata\\roaming\\python\\python311\\site-packages (from yfinance) (3.17.9)\n",
      "Requirement already satisfied: beautifulsoup4>=4.11.1 in c:\\programdata\\anaconda3\\lib\\site-packages (from yfinance) (4.12.2)\n",
      "Requirement already satisfied: python-dateutil>=2.8.2 in c:\\programdata\\anaconda3\\lib\\site-packages (from pandas) (2.8.2)\n",
      "Requirement already satisfied: tzdata>=2022.1 in c:\\programdata\\anaconda3\\lib\\site-packages (from pandas) (2023.3)\n",
      "Requirement already satisfied: contourpy>=1.0.1 in c:\\users\\varsh\\appdata\\roaming\\python\\python311\\site-packages (from matplotlib) (1.1.0)\n",
      "Requirement already satisfied: cycler>=0.10 in c:\\programdata\\anaconda3\\lib\\site-packages (from matplotlib) (0.11.0)\n",
      "Requirement already satisfied: fonttools>=4.22.0 in c:\\users\\varsh\\appdata\\roaming\\python\\python311\\site-packages (from matplotlib) (4.43.0)\n",
      "Requirement already satisfied: kiwisolver>=1.0.1 in c:\\programdata\\anaconda3\\lib\\site-packages (from matplotlib) (1.4.4)\n",
      "Requirement already satisfied: packaging>=20.0 in c:\\programdata\\anaconda3\\lib\\site-packages (from matplotlib) (23.1)\n",
      "Requirement already satisfied: pillow>=6.2.0 in c:\\users\\varsh\\appdata\\roaming\\python\\python311\\site-packages (from matplotlib) (10.3.0)\n",
      "Requirement already satisfied: pyparsing<3.1,>=2.3.1 in c:\\programdata\\anaconda3\\lib\\site-packages (from matplotlib) (3.0.9)\n",
      "Requirement already satisfied: scipy>=1.3.2 in c:\\programdata\\anaconda3\\lib\\site-packages (from scikit-learn) (1.11.1)\n",
      "Requirement already satisfied: joblib>=1.1.1 in c:\\users\\varsh\\appdata\\roaming\\python\\python311\\site-packages (from scikit-learn) (1.3.1)\n",
      "Requirement already satisfied: threadpoolctl>=2.0.0 in c:\\users\\varsh\\appdata\\roaming\\python\\python311\\site-packages (from scikit-learn) (3.2.0)\n",
      "Requirement already satisfied: soupsieve>1.2 in c:\\users\\varsh\\appdata\\roaming\\python\\python311\\site-packages (from beautifulsoup4>=4.11.1->yfinance) (2.4.1)\n",
      "Requirement already satisfied: six>=1.5 in c:\\programdata\\anaconda3\\lib\\site-packages (from python-dateutil>=2.8.2->pandas) (1.16.0)\n",
      "Requirement already satisfied: charset-normalizer<4,>=2 in c:\\users\\varsh\\appdata\\roaming\\python\\python311\\site-packages (from requests>=2.31->yfinance) (3.2.0)\n",
      "Requirement already satisfied: idna<4,>=2.5 in c:\\users\\varsh\\appdata\\roaming\\python\\python311\\site-packages (from requests>=2.31->yfinance) (3.7)\n",
      "Requirement already satisfied: urllib3<3,>=1.21.1 in c:\\programdata\\anaconda3\\lib\\site-packages (from requests>=2.31->yfinance) (1.26.16)\n",
      "Requirement already satisfied: certifi>=2017.4.17 in c:\\users\\varsh\\appdata\\roaming\\python\\python311\\site-packages (from requests>=2.31->yfinance) (2024.7.4)\n",
      "Note: you may need to restart the kernel to use updated packages.\n"
     ]
    },
    {
     "name": "stderr",
     "output_type": "stream",
     "text": [
      "DEPRECATION: Loading egg at c:\\programdata\\anaconda3\\lib\\site-packages\\vboxapi-1.0-py3.11.egg is deprecated. pip 23.3 will enforce this behaviour change. A possible replacement is to use pip for package installation..\n"
     ]
    }
   ],
   "source": [
    "pip install yfinance pandas numpy matplotlib scikit-learn"
   ]
  },
  {
   "cell_type": "markdown",
   "id": "71f1173b",
   "metadata": {},
   "source": [
    "Why are we installing these libraries?\n",
    "yfinance: Fetches real-time stock market data from Yahoo Finance.\n",
    "pandas: Helps handle and manipulate stock data in table format.\n",
    "numpy: Performs numerical computations for ML models.\n",
    "matplotlib: Used for visualizing stock price trends.\n",
    "scikit-learn: Provides ML algorithms for stock price prediction."
   ]
  },
  {
   "cell_type": "markdown",
   "id": "aebb01f3",
   "metadata": {},
   "source": [
    "### Step 2: Fetch Real-Time Stock Data\n",
    "\n",
    "Now that we have installed the required libraries, we will fetch real-time stock market data using the `yfinance` library.\n",
    "\n",
    "- We will choose a stock symbol (e.g., `AAPL` for Apple, `GOOGL` for Google).\n",
    "- The script will fetch **1 year of historical stock data** including Open, Close, High, Low, and Volume.\n",
    "- This data will help us in predicting future stock prices.\n",
    "\n",
    "Run the following code to fetch and display the first few rows of stock data.\n"
   ]
  },
  {
   "cell_type": "code",
   "execution_count": 2,
   "id": "5e420c45",
   "metadata": {},
   "outputs": [
    {
     "data": {
      "text/html": [
       "<div>\n",
       "<style scoped>\n",
       "    .dataframe tbody tr th:only-of-type {\n",
       "        vertical-align: middle;\n",
       "    }\n",
       "\n",
       "    .dataframe tbody tr th {\n",
       "        vertical-align: top;\n",
       "    }\n",
       "\n",
       "    .dataframe thead th {\n",
       "        text-align: right;\n",
       "    }\n",
       "</style>\n",
       "<table border=\"1\" class=\"dataframe\">\n",
       "  <thead>\n",
       "    <tr style=\"text-align: right;\">\n",
       "      <th></th>\n",
       "      <th>Open</th>\n",
       "      <th>High</th>\n",
       "      <th>Low</th>\n",
       "      <th>Close</th>\n",
       "      <th>Volume</th>\n",
       "      <th>Dividends</th>\n",
       "      <th>Stock Splits</th>\n",
       "    </tr>\n",
       "    <tr>\n",
       "      <th>Date</th>\n",
       "      <th></th>\n",
       "      <th></th>\n",
       "      <th></th>\n",
       "      <th></th>\n",
       "      <th></th>\n",
       "      <th></th>\n",
       "      <th></th>\n",
       "    </tr>\n",
       "  </thead>\n",
       "  <tbody>\n",
       "    <tr>\n",
       "      <th>2024-03-06 00:00:00-05:00</th>\n",
       "      <td>170.256080</td>\n",
       "      <td>170.435242</td>\n",
       "      <td>167.887261</td>\n",
       "      <td>168.325195</td>\n",
       "      <td>68587700</td>\n",
       "      <td>0.0</td>\n",
       "      <td>0.0</td>\n",
       "    </tr>\n",
       "    <tr>\n",
       "      <th>2024-03-07 00:00:00-05:00</th>\n",
       "      <td>168.355038</td>\n",
       "      <td>169.927615</td>\n",
       "      <td>167.698152</td>\n",
       "      <td>168.205750</td>\n",
       "      <td>71765100</td>\n",
       "      <td>0.0</td>\n",
       "      <td>0.0</td>\n",
       "    </tr>\n",
       "    <tr>\n",
       "      <th>2024-03-08 00:00:00-05:00</th>\n",
       "      <td>168.205762</td>\n",
       "      <td>172.883671</td>\n",
       "      <td>168.146047</td>\n",
       "      <td>169.927628</td>\n",
       "      <td>76114600</td>\n",
       "      <td>0.0</td>\n",
       "      <td>0.0</td>\n",
       "    </tr>\n",
       "    <tr>\n",
       "      <th>2024-03-11 00:00:00-04:00</th>\n",
       "      <td>172.127250</td>\n",
       "      <td>173.560485</td>\n",
       "      <td>171.241434</td>\n",
       "      <td>171.938141</td>\n",
       "      <td>60139500</td>\n",
       "      <td>0.0</td>\n",
       "      <td>0.0</td>\n",
       "    </tr>\n",
       "    <tr>\n",
       "      <th>2024-03-12 00:00:00-04:00</th>\n",
       "      <td>172.336237</td>\n",
       "      <td>173.212106</td>\n",
       "      <td>170.206295</td>\n",
       "      <td>172.415863</td>\n",
       "      <td>59825400</td>\n",
       "      <td>0.0</td>\n",
       "      <td>0.0</td>\n",
       "    </tr>\n",
       "  </tbody>\n",
       "</table>\n",
       "</div>"
      ],
      "text/plain": [
       "                                 Open        High         Low       Close  \\\n",
       "Date                                                                        \n",
       "2024-03-06 00:00:00-05:00  170.256080  170.435242  167.887261  168.325195   \n",
       "2024-03-07 00:00:00-05:00  168.355038  169.927615  167.698152  168.205750   \n",
       "2024-03-08 00:00:00-05:00  168.205762  172.883671  168.146047  169.927628   \n",
       "2024-03-11 00:00:00-04:00  172.127250  173.560485  171.241434  171.938141   \n",
       "2024-03-12 00:00:00-04:00  172.336237  173.212106  170.206295  172.415863   \n",
       "\n",
       "                             Volume  Dividends  Stock Splits  \n",
       "Date                                                          \n",
       "2024-03-06 00:00:00-05:00  68587700        0.0           0.0  \n",
       "2024-03-07 00:00:00-05:00  71765100        0.0           0.0  \n",
       "2024-03-08 00:00:00-05:00  76114600        0.0           0.0  \n",
       "2024-03-11 00:00:00-04:00  60139500        0.0           0.0  \n",
       "2024-03-12 00:00:00-04:00  59825400        0.0           0.0  "
      ]
     },
     "execution_count": 2,
     "metadata": {},
     "output_type": "execute_result"
    }
   ],
   "source": [
    "import yfinance as yf\n",
    "import pandas as pd\n",
    "\n",
    "# Define the stock ticker symbol (e.g., AAPL for Apple)\n",
    "stock_ticker = \"AAPL\"  \n",
    "\n",
    "# Fetch stock data for the past 1 year\n",
    "stock = yf.Ticker(stock_ticker)\n",
    "data = stock.history(period=\"1y\")\n",
    "\n",
    "# Display the first few rows of the dataset\n",
    "data.head()\n"
   ]
  },
  {
   "cell_type": "markdown",
   "id": "debfc46c",
   "metadata": {},
   "source": [
    "### Step 2: Fetch Real-Time Stock Data\n",
    "\n",
    "We have successfully fetched **Apple's (AAPL) stock data for the past 1 year** using the `yfinance` library.\n",
    "\n",
    "#### **📊 Understanding the Output Table:**\n",
    "| Date (Index)     | Open      | High      | Low       | Close     | Volume   | Dividends | Stock Splits |\n",
    "|------------------|----------|----------|----------|----------|----------|-----------|--------------|\n",
    "| 2024-03-06      | 170.25    | 170.43    | 167.88    | 168.32    | 68.5M    | 0.0       | 0.0          |\n",
    "| 2024-03-07      | 168.35    | 169.92    | 167.69    | 168.20    | 71.7M    | 0.0       | 0.0          |\n",
    "| 2024-03-08      | 168.20    | 172.88    | 168.14    | 169.92    | 76.1M    | 0.0       | 0.0          |\n",
    "| 2024-03-11      | 172.12    | 173.56    | 171.24    | 171.93    | 60.1M    | 0.0       | 0.0          |\n",
    "| 2024-03-12      | 172.33    | 173.21    | 170.20    | 172.41    | 59.8M    | 0.0       | 0.0          |\n",
    "\n",
    "#### **🔹 Mapping the Output with Code:**\n",
    "- **`Date (Index)`** → Represents the trading date for each record.\n",
    "- **`Open`** → Price at which the stock started trading that day.\n",
    "- **`High`** → Highest price reached on that day.\n",
    "- **`Low`** → Lowest price reached on that day.\n",
    "- **`Close`** → Price at which the stock closed for the day.\n",
    "- **`Volume`** → Total number of shares traded on that day.\n",
    "- **`Dividends`** → Any dividends paid on that day (0.0 means no dividend).\n",
    "- **`Stock Splits`** → If the stock was split (0.0 means no split occurred).\n",
    "\n",
    "#### **🔹 What’s Next?**\n",
    "Now that we have the stock data, we will:\n",
    "1. **Prepare the data** for Machine Learning by converting dates to numerical values.\n",
    "2. **Train a prediction model** to estimate future stock prices.\n",
    "\n",
    "---\n"
   ]
  },
  {
   "cell_type": "markdown",
   "id": "04fdf8da",
   "metadata": {},
   "source": [
    "### Step 3: Preparing Data for Machine Learning\n",
    "\n",
    "Before training a model, we must **convert the date column into numerical values** because ML models cannot process raw date formats.\n",
    "\n",
    "#### 🔹 What We Are Doing:\n",
    "1. **Extracting only the \"Close\" price** (since we want to predict it).\n",
    "2. **Converting dates into numerical format** (days since the start date).\n",
    "3. **Splitting the dataset** into training and testing sets.\n",
    "\n",
    "---\n"
   ]
  },
  {
   "cell_type": "code",
   "execution_count": 3,
   "id": "684019d7",
   "metadata": {},
   "outputs": [
    {
     "data": {
      "text/html": [
       "<div>\n",
       "<style scoped>\n",
       "    .dataframe tbody tr th:only-of-type {\n",
       "        vertical-align: middle;\n",
       "    }\n",
       "\n",
       "    .dataframe tbody tr th {\n",
       "        vertical-align: top;\n",
       "    }\n",
       "\n",
       "    .dataframe thead th {\n",
       "        text-align: right;\n",
       "    }\n",
       "</style>\n",
       "<table border=\"1\" class=\"dataframe\">\n",
       "  <thead>\n",
       "    <tr style=\"text-align: right;\">\n",
       "      <th></th>\n",
       "      <th>Date</th>\n",
       "      <th>Days</th>\n",
       "      <th>Close</th>\n",
       "    </tr>\n",
       "    <tr>\n",
       "      <th>Date</th>\n",
       "      <th></th>\n",
       "      <th></th>\n",
       "      <th></th>\n",
       "    </tr>\n",
       "  </thead>\n",
       "  <tbody>\n",
       "    <tr>\n",
       "      <th>2024-03-06 00:00:00-05:00</th>\n",
       "      <td>2024-03-06 00:00:00-05:00</td>\n",
       "      <td>0</td>\n",
       "      <td>168.325195</td>\n",
       "    </tr>\n",
       "    <tr>\n",
       "      <th>2024-03-07 00:00:00-05:00</th>\n",
       "      <td>2024-03-07 00:00:00-05:00</td>\n",
       "      <td>1</td>\n",
       "      <td>168.205750</td>\n",
       "    </tr>\n",
       "    <tr>\n",
       "      <th>2024-03-08 00:00:00-05:00</th>\n",
       "      <td>2024-03-08 00:00:00-05:00</td>\n",
       "      <td>2</td>\n",
       "      <td>169.927628</td>\n",
       "    </tr>\n",
       "    <tr>\n",
       "      <th>2024-03-11 00:00:00-04:00</th>\n",
       "      <td>2024-03-11 00:00:00-04:00</td>\n",
       "      <td>4</td>\n",
       "      <td>171.938141</td>\n",
       "    </tr>\n",
       "    <tr>\n",
       "      <th>2024-03-12 00:00:00-04:00</th>\n",
       "      <td>2024-03-12 00:00:00-04:00</td>\n",
       "      <td>5</td>\n",
       "      <td>172.415863</td>\n",
       "    </tr>\n",
       "  </tbody>\n",
       "</table>\n",
       "</div>"
      ],
      "text/plain": [
       "                                               Date  Days       Close\n",
       "Date                                                                 \n",
       "2024-03-06 00:00:00-05:00 2024-03-06 00:00:00-05:00     0  168.325195\n",
       "2024-03-07 00:00:00-05:00 2024-03-07 00:00:00-05:00     1  168.205750\n",
       "2024-03-08 00:00:00-05:00 2024-03-08 00:00:00-05:00     2  169.927628\n",
       "2024-03-11 00:00:00-04:00 2024-03-11 00:00:00-04:00     4  171.938141\n",
       "2024-03-12 00:00:00-04:00 2024-03-12 00:00:00-04:00     5  172.415863"
      ]
     },
     "execution_count": 3,
     "metadata": {},
     "output_type": "execute_result"
    }
   ],
   "source": [
    "import numpy as np\n",
    "from sklearn.model_selection import train_test_split\n",
    "\n",
    "# Convert date index to a column\n",
    "data[\"Date\"] = data.index\n",
    "\n",
    "# Convert dates to numerical values (days since the first date)\n",
    "data[\"Days\"] = (data[\"Date\"] - data[\"Date\"].min()).dt.days\n",
    "\n",
    "# Define Features (X) and Target Variable (y)\n",
    "X = data[\"Days\"].values.reshape(-1, 1)  # Independent variable (time in days)\n",
    "y = data[\"Close\"].values  # Dependent variable (closing stock price)\n",
    "\n",
    "# Split the data into training (80%) and testing (20%) sets\n",
    "X_train, X_test, y_train, y_test = train_test_split(X, y, test_size=0.2, random_state=42)\n",
    "\n",
    "# Display the first 5 rows to verify\n",
    "data[[\"Date\", \"Days\", \"Close\"]].head()\n"
   ]
  },
  {
   "cell_type": "markdown",
   "id": "2f354e8d",
   "metadata": {},
   "source": [
    "#### 🔹 Understanding the Output Table:\n",
    "| Date       | Days | Close  |\n",
    "|------------|------|--------|\n",
    "| 2024-03-06 | 365  | 168.32 |\n",
    "| 2024-03-07 | 366  | 168.20 |\n",
    "| 2024-03-08 | 367  | 169.92 |\n",
    "| 2024-03-11 | 368  | 171.93 |\n",
    "| 2024-03-12 | 369  | 172.41 |\n",
    "\n",
    "#### 🔹 What Each Column Represents:\n",
    "- **`Date`** → Original stock trading date.\n",
    "- **`Days`** → Numeric representation of dates (Days since start).\n",
    "- **`Close`** → Stock price at the end of the day (our target variable).\n",
    "\n",
    "#### 🔹 Why Are We Doing This?\n",
    "- ML models require **numerical values**, so we convert dates to **days since start**.\n",
    "- We extract **only the \"Close\" price** because that's what we want to predict.\n",
    "- We **split the data** into training & testing sets to **evaluate model accuracy**.\n",
    "\n",
    "---\n"
   ]
  },
  {
   "cell_type": "markdown",
   "id": "d73a7b83",
   "metadata": {},
   "source": [
    "### Step 4: Training the Machine Learning Model\n",
    "\n",
    "Now, we will use **Linear Regression** to predict stock prices. \n",
    "\n",
    "#### 🔹 Why Linear Regression?\n",
    "- It helps find the **best-fit line** between time (Days) and stock prices.\n",
    "- It is simple yet effective for predicting future trends in **time-series data**.\n",
    "\n",
    "---\n"
   ]
  },
  {
   "cell_type": "code",
   "execution_count": 4,
   "id": "e800fe36",
   "metadata": {},
   "outputs": [
    {
     "name": "stdout",
     "output_type": "stream",
     "text": [
      "Model Slope (Weight): 0.2129\n",
      "Model Intercept (Bias): 177.2038\n"
     ]
    }
   ],
   "source": [
    "from sklearn.linear_model import LinearRegression\n",
    "\n",
    "# Initialize the Linear Regression model\n",
    "model = LinearRegression()\n",
    "\n",
    "# Train the model using the training data\n",
    "model.fit(X_train, y_train)\n",
    "\n",
    "# Predict prices on the test set\n",
    "y_pred = model.predict(X_test)\n",
    "\n",
    "# Print model coefficients\n",
    "print(f\"Model Slope (Weight): {model.coef_[0]:.4f}\")\n",
    "print(f\"Model Intercept (Bias): {model.intercept_:.4f}\")\n"
   ]
  },
  {
   "cell_type": "markdown",
   "id": "e0d7a76b",
   "metadata": {},
   "source": [
    "#### 🔹 Model Parameters:\n",
    "- **Model Slope (Weight) = 0.2129** → Stock price increases by ~0.21 per day.\n",
    "- **Model Intercept (Bias) = 177.2038** → If `Days = 0`, the predicted stock price would be **$177.20**.\n",
    "\n",
    "#### 🔹 What This Means:\n",
    "- This model has **learned a linear trend** in stock prices.\n",
    "- Now, we can **predict future stock prices** based on this trend.\n",
    "\n",
    "---\n"
   ]
  },
  {
   "cell_type": "markdown",
   "id": "dbb3cda2",
   "metadata": {},
   "source": [
    "### Step 5: Predicting Future Stock Prices\n",
    "\n",
    "Now that the model is trained, we will:\n",
    "1️⃣ **Use it to predict stock prices for the next 10 days**.\n",
    "2️⃣ **Visualize predictions using Matplotlib**.\n",
    "---\n"
   ]
  },
  {
   "cell_type": "code",
   "execution_count": 6,
   "id": "5f04f535",
   "metadata": {},
   "outputs": [
    {
     "name": "stdout",
     "output_type": "stream",
     "text": [
      "Day 1: Predicted Price = $255.13\n",
      "Day 2: Predicted Price = $255.34\n",
      "Day 3: Predicted Price = $255.56\n",
      "Day 4: Predicted Price = $255.77\n",
      "Day 5: Predicted Price = $255.98\n",
      "Day 6: Predicted Price = $256.20\n",
      "Day 7: Predicted Price = $256.41\n",
      "Day 8: Predicted Price = $256.62\n",
      "Day 9: Predicted Price = $256.83\n",
      "Day 10: Predicted Price = $257.05\n"
     ]
    },
    {
     "data": {
      "image/png": "[encoded data removed]",
      "text/plain": [
       "<Figure size 1000x500 with 1 Axes>"
      ]
     },
     "metadata": {},
     "output_type": "display_data"
    }
   ],
   "source": [
    "import numpy as np\n",
    "import matplotlib.pyplot as plt\n",
    "\n",
    "# Predict stock prices for the next 10 days\n",
    "future_days = np.array([X.max() + i for i in range(1, 11)]).reshape(-1, 1)\n",
    "future_prices = model.predict(future_days)\n",
    "\n",
    "# Print predicted prices\n",
    "for i, price in enumerate(future_prices, start=1):\n",
    "    print(f\"Day {i}: Predicted Price = ${price:.2f}\")\n",
    "\n",
    "# Visualize Actual vs Predicted Prices\n",
    "plt.figure(figsize=(10, 5))\n",
    "plt.scatter(X, y, color=\"blue\", label=\"Actual Prices\")  # Actual Data\n",
    "plt.plot(future_days, future_prices, color=\"red\", linestyle=\"dashed\", label=\"Predicted Prices\")  # Prediction Line\n",
    "plt.xlabel(\"Days\")\n",
    "plt.ylabel(\"Stock Price\")\n",
    "plt.title(\"Stock Price Prediction\")\n",
    "plt.legend()\n",
    "plt.show()\n"
   ]
  },
  {
   "cell_type": "code",
   "execution_count": null,
   "id": "35c5a3e6",
   "metadata": {},
   "outputs": [],
   "source": []
  }
 ],
 "metadata": {
  "kernelspec": {
   "display_name": "Python 3 (ipykernel)",
   "language": "python",
   "name": "python3"
  },
  "language_info": {
   "codemirror_mode": {
    "name": "ipython",
    "version": 3
   },
   "file_extension": ".py",
   "mimetype": "text/x-python",
   "name": "python",
   "nbconvert_exporter": "python",
   "pygments_lexer": "ipython3",
   "version": "3.11.5"
  }
 },
 "nbformat": 4,
 "nbformat_minor": 5
}
